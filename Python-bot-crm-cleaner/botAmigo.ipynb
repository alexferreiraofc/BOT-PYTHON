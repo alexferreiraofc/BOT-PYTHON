{
 "cells": [
  {
   "cell_type": "code",
   "execution_count": 239,
   "metadata": {},
   "outputs": [],
   "source": [
    "# imports manipulação excel\n",
    "import pandas\n",
    "tabela = pandas.read_excel(\"ativos.xlsx\")\n",
    "\n",
    "\n",
    "# imports automação\n",
    "from selenium import webdriver                      # importa o web driver\n",
    "from selenium.webdriver.common.by import By         # importa o find By\n",
    "from selenium.webdriver.common.keys import Keys     # importa as teclas do proprio webdriver, da pra usar o pyautogui tbm.\n",
    "import pyautogui as pg                              # importa a automação de tela/mouse do pyautogui\n",
    "import time                                         # importa o sleep forçado.\n",
    "\n",
    "navegador = webdriver.Chrome()\n",
    "\n",
    "\n",
    "# acessando url alvo\n",
    "\n",
    "navegador.get(\"site simob\")"
   ]
  },
  {
   "cell_type": "code",
   "execution_count": 240,
   "metadata": {},
   "outputs": [],
   "source": [
    "# inserindo credenciais\n",
    "\n",
    "navegador.find_element(By.XPATH, '/html/body/div[12]/div/div[2]/div/div/div[2]/form/div[2]/input').send_keys(\"email\")\n",
    "navegador.find_element(By.XPATH, '/html/body/div[12]/div/div[2]/div/div/div[2]/form/div[3]/input').send_keys(\"senha\" + Keys.RETURN)\n",
    "\n"
   ]
  },
  {
   "cell_type": "code",
   "execution_count": 241,
   "metadata": {},
   "outputs": [],
   "source": [
    "# acessando aba de imoveis\n",
    "navegador.find_element(By.XPATH, '/html/body/div[15]/div/div[2]/ul/li[4]/a').click()\n",
    "\n",
    "# acessando o filtro de pesquisa\n",
    "navegador.find_element(By.XPATH, '/html/body/div[15]/div/div[3]/div[2]/table/tbody/tr/td[4]/a/b/img').click()"
   ]
  },
  {
   "cell_type": "code",
   "execution_count": 244,
   "metadata": {},
   "outputs": [],
   "source": [
    "# AUTOMAÇÃO DA LEITURA DO ELEMENTO + LEITURA DO EXCEL PARA INSERÇÃO DOS DADOS\n",
    "\n",
    "# --------- VARIAÇÃO DE FINDS POR NAME, ID E XPATH\n",
    "\n",
    "# navegador.find_element(By.XPATH, '/html/body/div[15]/div/div[3]/div[3]/div/div/div/form/table/tbody/tr[1]/td[2]/input').send_keys(\"fim\" + Keys.RETURN)\n",
    "# navegador.find_element(By.NAME, \"imovel_filters[codigo][text]\").send_keys(\"foi\")\n",
    "\n",
    "\n",
    "for codigo in tabela[\"codigo\"]:\n",
    "        \n",
    "    # acessando o filtro de pesquisa\n",
    "    navegador.find_element(By.ID, 'filtro').click()\n",
    "\n",
    "\n",
    "    navegador.find_element(By.ID, \"imovel_filters_codigo\").clear() # LIMPA OS CAMPOS DO CODIGO\n",
    "\n",
    "\n",
    "    navegador.find_element(By.ID, \"imovel_filters_codigo\").send_keys(codigo) # INSERE CODIGO DA TABELA EXCEL IMOVEIS.XLSX\n",
    "    navegador.find_element(By.XPATH, '/html/body/div[15]/div/div[3]/div[3]/div/div/div/form/table/tfoot/tr/td/ul/input[2]').click()\n",
    "    time.sleep(5)\n",
    "\n",
    "    # marca inativo\n",
    "    navegador.find_element(By.ID, 'imovel_inativo').click()\n",
    "\n",
    "    try:\n",
    "            # MOTIVO INATIVAÇÃO\n",
    "            navegador.find_element(By.XPATH, '/html/body/div[15]/div/div[3]/div[2]/div[6]/div[1]/div[9]/div[2]/div[6]/form/fieldset/div[18]/div/div[2]/select/option[6]').click()\n",
    "            # DATA INATIVAÇÃO\n",
    "            navegador.find_element(By.XPATH, '/html/body/div[15]/div/div[3]/div[2]/div[6]/div[1]/div[9]/div[2]/div[6]/form/fieldset/div[19]/div/div[2]/input[1]').send_keys(\"31/08/2022\")\n",
    "            time.sleep(2)\n",
    "        # salva modificação\n",
    "            navegador.find_element(By.XPATH, '/html/body/div[15]/div/div[3]/div[2]/div[6]/div[1]/div[9]/div[2]/div[6]/form/ul/li[2]/input').click()\n",
    "    except:\n",
    "            # em vez de salvar, posso colocar apenas pra voltar caso falhe no bloco TRY ou posso colocar outra ação aqui nesse bloco.\n",
    "            # navegador.find_element(By.CLASS_NAME, 'sf_admin_action_list').click()\n",
    "            # salva modificação\n",
    "            navegador.find_element(By.XPATH, '/html/body/div[15]/div/div[3]/div[2]/div[6]/div[1]/div[9]/div[2]/div[6]/form/ul/li[2]/input').click()\n",
    "    finally:\n",
    "        time.sleep(3)\n",
    "        navegador.find_element(By.CLASS_NAME, 'sf_admin_action_list').click()"
   ]
  }
 ],
 "metadata": {
  "kernelspec": {
   "display_name": "Python 3.10.6 64-bit",
   "language": "python",
   "name": "python3"
  },
  "language_info": {
   "codemirror_mode": {
    "name": "ipython",
    "version": 3
   },
   "file_extension": ".py",
   "mimetype": "text/x-python",
   "name": "python",
   "nbconvert_exporter": "python",
   "pygments_lexer": "ipython3",
   "version": "3.10.6"
  },
  "orig_nbformat": 4,
  "vscode": {
   "interpreter": {
    "hash": "0c26daf1f4a37b3529f8311e6eb44a29dc39838d8d422fd12d615d035be26a7f"
   }
  }
 },
 "nbformat": 4,
 "nbformat_minor": 2
}
